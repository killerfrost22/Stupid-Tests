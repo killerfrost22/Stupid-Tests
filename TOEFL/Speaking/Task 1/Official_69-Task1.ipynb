{
 "cells": [
  {
   "cell_type": "markdown",
   "source": [
    "#### Some people prefer to take a lot of pictures at family gatherings and some do not please elaborate your choice."
   ],
   "metadata": {}
  },
  {
   "cell_type": "markdown",
   "source": [],
   "metadata": {}
  },
  {
   "cell_type": "markdown",
   "source": [
    "### Personally speaking I would not prefer to take a lot of pictures during my time at the family gatherings. I think only a few nice shots would be good enough to me. Firstly, the family gathering is about getting together. Chatting and having fun is the most cherishable memory to me. Secondly, if I am the one who takes the pictures I may or maynot be in the picture. I have to make selections if I took a lot of pictures if there are just too much photos. I prefer simplicity in life, just like the Latin aphorism Carpe Diem which means seize the day in English. The most cherishable moment to me is not taking a lot of pictures."
   ],
   "metadata": {}
  },
  {
   "cell_type": "markdown",
   "source": [],
   "metadata": {}
  }
 ],
 "metadata": {
  "orig_nbformat": 4,
  "language_info": {
   "name": "python"
  }
 },
 "nbformat": 4,
 "nbformat_minor": 2
}